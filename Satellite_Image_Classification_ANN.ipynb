{
  "cells": [
    {
      "cell_type": "code",
      "execution_count": 1,
      "metadata": {
        "id": "gZ7Gl5gtttG-",
        "colab": {
          "base_uri": "https://localhost:8080/"
        },
        "outputId": "143f7af0-0bca-4294-afc9-05779cecdc35"
      },
      "outputs": [
        {
          "output_type": "stream",
          "name": "stdout",
          "text": [
            "Looking in indexes: https://pypi.org/simple, https://us-python.pkg.dev/colab-wheels/public/simple/\n",
            "Collecting pyrsgis\n",
            "  Downloading pyrsgis-0.4.1-py3-none-any.whl (25 kB)\n",
            "Installing collected packages: pyrsgis\n",
            "Successfully installed pyrsgis-0.4.1\n"
          ]
        }
      ],
      "source": [
        "!pip install pyrsgis\n",
        "from pyrsgis import raster, convert\n",
        "from osgeo import gdal\n",
        "from google.colab import drive\n",
        "from sklearn.model_selection import train_test_split\n",
        "import numpy as np\n",
        "import tensorflow as tf\n",
        "from tensorflow import keras\n",
        "from keras import backend as K\n",
        "from sklearn.metrics import confusion_matrix, precision_score, recall_score"
      ]
    },
    {
      "cell_type": "code",
      "execution_count": 2,
      "metadata": {
        "id": "-9t8vql1tvbz",
        "colab": {
          "base_uri": "https://localhost:8080/"
        },
        "outputId": "3d5ed82e-2d65-44ca-979e-e54cc6e322db"
      },
      "outputs": [
        {
          "output_type": "stream",
          "name": "stdout",
          "text": [
            "Mounted at /content/drive\n"
          ]
        }
      ],
      "source": [
        "drive.mount('/content/drive')"
      ]
    },
    {
      "cell_type": "code",
      "execution_count": 3,
      "metadata": {
        "id": "tawdj030vnCd"
      },
      "outputs": [],
      "source": [
        "multispectral_Bangalore = '/content/drive/MyDrive/Dataset_Satellite/Bangalore_2013_clip.tif'\n",
        "classes_Bangalore = '/content/drive/MyDrive/Dataset_Satellite/classified_2013.tif'\n",
        "multispectral_Bangalore_2011 = '/content/drive/MyDrive/Dataset_Satellite/Bangalore_2011_clip.tif'"
      ]
    },
    {
      "cell_type": "code",
      "execution_count": 4,
      "metadata": {
        "id": "zd6GhrIR3HTA",
        "colab": {
          "base_uri": "https://localhost:8080/"
        },
        "outputId": "04daad2d-771b-4b6d-bf95-1a6c894dad2b"
      },
      "outputs": [
        {
          "output_type": "stream",
          "name": "stdout",
          "text": [
            "Bangalore Multispectral image shape (6, 2068, 2268)\n",
            "Bangalalore mutliclass image shape (2068, 2268)\n",
            "Bangalore 2011 multispectral image shape (6, 2054, 2044)\n"
          ]
        }
      ],
      "source": [
        "ds1, features = raster.read(multispectral_Bangalore, bands = 'all')\n",
        "print('Bangalore Multispectral image shape', features.shape)\n",
        "\n",
        "ds2, labels = raster.read(classes_Bangalore, bands = 1)\n",
        "print('Bangalalore mutliclass image shape', labels.shape)\n",
        "\n",
        "ds3, features_2011 = raster.read(multispectral_Bangalore_2011, bands = 'all')\n",
        "print('Bangalore 2011 multispectral image shape', features_2011.shape)"
      ]
    },
    {
      "cell_type": "markdown",
      "metadata": {
        "id": "9xsJi4xvOvhs"
      },
      "source": [
        ""
      ]
    },
    {
      "cell_type": "code",
      "execution_count": 5,
      "metadata": {
        "id": "EipGCfPJ_wSD"
      },
      "outputs": [],
      "source": [
        "featuresBangalore = convert.array_to_table(features)\n",
        "labelBangalore = convert.array_to_table(labels)\n",
        "featuresBangalore_2011 = convert.array_to_table(features_2011)\n",
        "nBands = features.shape[1]\n",
        "\n",
        "for i in range(1,5):\n",
        "  labels = (labels == i).astype(int)"
      ]
    },
    {
      "cell_type": "code",
      "execution_count": 6,
      "metadata": {
        "id": "1oaGiO-bKRA_",
        "colab": {
          "base_uri": "https://localhost:8080/"
        },
        "outputId": "3517ffca-3266-4fad-db23-3d6a011455fb"
      },
      "outputs": [
        {
          "output_type": "stream",
          "name": "stdout",
          "text": [
            "Reshaped Bangalore data with features  (4690224, 6)\n",
            "Reshaped Bangalore data with labels (4690224,)\n",
            "Reshaped bangalore data with features of 2011 (4198376, 6)\n"
          ]
        }
      ],
      "source": [
        "print('Reshaped Bangalore data with features ',featuresBangalore.shape)\n",
        "print('Reshaped Bangalore data with labels', labelBangalore.shape)\n",
        "print('Reshaped bangalore data with features of 2011', featuresBangalore_2011.shape)\n"
      ]
    },
    {
      "cell_type": "code",
      "execution_count": 7,
      "metadata": {
        "id": "NXycOcHHKtzF",
        "colab": {
          "base_uri": "https://localhost:8080/"
        },
        "outputId": "e275c7b8-e797-4ac8-d9d6-e7766cdcacdc"
      },
      "outputs": [
        {
          "output_type": "stream",
          "name": "stdout",
          "text": [
            "(3752179, 6)\n",
            "65535\n",
            "4\n",
            "255\n"
          ]
        }
      ],
      "source": [
        "xTrain, xTest, yTrain, yTest = train_test_split(featuresBangalore, labelBangalore, test_size=0.4,random_state=42)\n",
        "\n",
        "'''\n",
        "for i in range(len(yTrain)):\n",
        "      if(yTrain[i]!=0):  \n",
        "        yTrain[i] -= 1\n",
        "'''\n",
        "\n",
        "print(xTrain.shape)\n",
        "print(np.amax(xTrain))\n",
        "print(np.amax(yTrain))\n",
        "print(np.amax(featuresBangalore_2011))"
      ]
    },
    {
      "cell_type": "code",
      "execution_count": 8,
      "metadata": {
        "id": "ZRt5Eiw5PehJ",
        "colab": {
          "base_uri": "https://localhost:8080/"
        },
        "outputId": "384b8122-d485-4727-a9e6-23d3cac5f4d6"
      },
      "outputs": [
        {
          "output_type": "stream",
          "name": "stdout",
          "text": [
            "0.07385815928391094 1.0027541886619233\n",
            "1 4\n",
            "1.0027541886619233\n",
            "(3752179, 1, 6) (938045, 1, 6)\n"
          ]
        }
      ],
      "source": [
        "xTrain = xTrain / 35355.0\n",
        "xTest = xTest / 35355.0\n",
        "featuresBangalore_2011 = featuresBangalore_2011/255.0\n",
        "print(np.min(xTrain),np.max(xTrain))\n",
        "print(np.min(yTrain),np.max(yTrain))\n",
        "print(np.max(xTest))\n",
        "\n",
        "\n",
        "xTrain = xTrain.reshape((xTrain.shape[0], 1, xTrain.shape[1]))\n",
        "xTest = xTest.reshape((xTest.shape[0], 1, xTest.shape[1]))\n",
        "featuresBangalore_2011 = featuresBangalore_2011.reshape((featuresBangalore_2011.shape[0], 1, featuresBangalore_2011.shape[1]))\n",
        "print(xTrain.shape, xTest.shape)"
      ]
    },
    {
      "cell_type": "code",
      "execution_count": 9,
      "metadata": {
        "id": "iMoE4694P1VJ"
      },
      "outputs": [],
      "source": [
        "nBands = featuresBangalore.shape[1]\n",
        "\n",
        "# Define the parameters of the model\n",
        "model = keras.Sequential([\n",
        "    keras.layers.Flatten(input_shape=(1, nBands)),\n",
        "    keras.layers.Dense(16, activation='relu'),\n",
        "    keras.layers.Dense(11,activation = 'relu'),\n",
        "    keras.layers.Dense(7,activation = 'relu'),\n",
        "    keras.layers.Dense(4, activation='softmax')])\n",
        "\n",
        "model.compile(optimizer=\"adam\", loss = \"sparse_categorical_crossentropy\", metrics= ['accuracy'] )\n"
      ]
    },
    {
      "cell_type": "code",
      "execution_count": 10,
      "metadata": {
        "id": "HIcrCyrwuTRy",
        "colab": {
          "base_uri": "https://localhost:8080/"
        },
        "outputId": "0c831b89-30e5-4717-9de1-44e0c111cf00"
      },
      "outputs": [
        {
          "output_type": "stream",
          "name": "stdout",
          "text": [
            "117256/117256 [==============================] - 227s 2ms/step - loss: 0.1303 - accuracy: 0.9536\n"
          ]
        }
      ],
      "source": [
        "history = model.fit(xTrain,yTrain,epochs=1)"
      ]
    },
    {
      "cell_type": "code",
      "execution_count": 11,
      "metadata": {
        "id": "Y0babuT9xgpw",
        "colab": {
          "base_uri": "https://localhost:8080/",
          "height": 295
        },
        "outputId": "2194fb88-8795-4761-c2f6-581db5612dc4"
      },
      "outputs": [
        {
          "output_type": "display_data",
          "data": {
            "text/plain": [
              "<Figure size 432x288 with 1 Axes>"
            ],
            "image/png": "[encoded data removed]"
          },
          "metadata": {
            "needs_background": "light"
          }
        }
      ],
      "source": [
        "from matplotlib import pyplot as plt\n",
        "plt.plot(history.history['accuracy'])\n",
        "plt.title(\"Model accuracy\")\n",
        "plt.ylabel(\"Accuracy\")\n",
        "plt.xlabel(\"Epoch\")\n",
        "plt.show()\n"
      ]
    },
    {
      "cell_type": "code",
      "execution_count": 12,
      "metadata": {
        "id": "GK8ORQnWyckM",
        "colab": {
          "base_uri": "https://localhost:8080/",
          "height": 295
        },
        "outputId": "8370f829-1e29-46b5-cc08-e21e002790b4"
      },
      "outputs": [
        {
          "output_type": "display_data",
          "data": {
            "text/plain": [
              "<Figure size 432x288 with 1 Axes>"
            ],
            "image/png": "[encoded data removed]"
          },
          "metadata": {
            "needs_background": "light"
          }
        }
      ],
      "source": [
        "plt.plot(history.history['loss'])\n",
        "plt.title('model loss')\n",
        "plt.ylabel('loss')\n",
        "plt.xlabel('epoch')\n",
        "plt.show()"
      ]
    },
    {
      "cell_type": "code",
      "source": [
        "predicted = model.predict(featuresBangalore_2011)\n",
        "prediction = convert.table_to_array(predicted, n_rows=ds3.RasterYSize, n_cols=ds3.RasterXSize)\n",
        "outFile = 'Bangalore_2011_predicted.tif'\n",
        "raster.export(prediction, ds3, filename=outFile, dtype='float')"
      ],
      "metadata": {
        "id": "XGoAjoqPfzcR"
      },
      "execution_count": 13,
      "outputs": []
    },
    {
      "cell_type": "code",
      "source": [
        "print(predicted.shape)\n",
        "prediction.size"
      ],
      "metadata": {
        "id": "1xrYRTdyi1-P",
        "colab": {
          "base_uri": "https://localhost:8080/"
        },
        "outputId": "1491917d-a8fd-45ec-c49a-025f503c4505"
      },
      "execution_count": null,
      "outputs": [
        {
          "output_type": "stream",
          "name": "stdout",
          "text": [
            "(4198376, 4)\n"
          ]
        },
        {
          "output_type": "execute_result",
          "data": {
            "text/plain": [
              "16793504"
            ]
          },
          "metadata": {},
          "execution_count": 23
        }
      ]
    },
    {
      "cell_type": "code",
      "source": [
        ""
      ],
      "metadata": {
        "id": "taBSEGWVjsHp"
      },
      "execution_count": null,
      "outputs": []
    },
    {
      "cell_type": "code",
      "source": [
        ""
      ],
      "metadata": {
        "id": "gP14qIC6jwdw"
      },
      "execution_count": null,
      "outputs": []
    },
    {
      "cell_type": "code",
      "source": [
        ""
      ],
      "metadata": {
        "id": "FEB-4esTjym0"
      },
      "execution_count": null,
      "outputs": []
    }
  ],
  "metadata": {
    "accelerator": "GPU",
    "colab": {
      "collapsed_sections": [],
      "name": "Satellite_Image_Classification_ANN.ipynb",
      "provenance": []
    },
    "gpuClass": "standard",
    "kernelspec": {
      "display_name": "Python 3",
      "name": "python3"
    },
    "language_info": {
      "name": "python"
    }
  },
  "nbformat": 4,
  "nbformat_minor": 0
}