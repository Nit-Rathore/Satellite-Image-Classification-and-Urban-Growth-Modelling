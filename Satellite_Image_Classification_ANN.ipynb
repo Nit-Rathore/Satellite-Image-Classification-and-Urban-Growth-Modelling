{
  "cells": [
    {
      "cell_type": "markdown",
      "metadata": {
        "id": "view-in-github",
        "colab_type": "text"
      },
      "source": [
        "<a href=\"https://colab.research.google.com/github/Nit-Rathore/Satellite-Image-Classification-and-Urban-Growth-Modelling/blob/main/Satellite_Image_Classification_ANN.ipynb\" target=\"_parent\"><img src=\"https://colab.research.google.com/assets/colab-badge.svg\" alt=\"Open In Colab\"/></a>"
      ]
    },
    {
      "cell_type": "code",
      "execution_count": 28,
      "metadata": {
        "id": "gZ7Gl5gtttG-",
        "colab": {
          "base_uri": "https://localhost:8080/"
        },
        "outputId": "e715e7a3-cf85-408f-e94e-c3a3a9524071"
      },
      "outputs": [
        {
          "output_type": "stream",
          "name": "stdout",
          "text": [
            "Looking in indexes: https://pypi.org/simple, https://us-python.pkg.dev/colab-wheels/public/simple/\n",
            "Requirement already satisfied: pyrsgis in /usr/local/lib/python3.7/dist-packages (0.4.1)\n"
          ]
        }
      ],
      "source": [
        "!pip install pyrsgis\n",
        "from pyrsgis import raster, convert\n",
        "from osgeo import gdal\n",
        "from google.colab import drive\n",
        "from sklearn.model_selection import train_test_split\n",
        "import numpy as np\n",
        "import tensorflow as tf\n",
        "from tensorflow import keras\n",
        "from keras import models,losses\n",
        "from sklearn.metrics import confusion_matrix, precision_score, recall_score, f1_score"
      ]
    },
    {
      "cell_type": "code",
      "execution_count": 29,
      "metadata": {
        "id": "-9t8vql1tvbz",
        "colab": {
          "base_uri": "https://localhost:8080/"
        },
        "outputId": "e369abe2-f4e7-4e5f-f0b1-ba102bcef373"
      },
      "outputs": [
        {
          "output_type": "stream",
          "name": "stdout",
          "text": [
            "Drive already mounted at /content/drive; to attempt to forcibly remount, call drive.mount(\"/content/drive\", force_remount=True).\n"
          ]
        }
      ],
      "source": [
        "drive.mount('/content/drive')"
      ]
    },
    {
      "cell_type": "code",
      "execution_count": 30,
      "metadata": {
        "id": "tawdj030vnCd"
      },
      "outputs": [],
      "source": [
        "multispectral_Bangalore = '/content/drive/MyDrive/Dataset_Satellite/Bangalore_1997clip.tif'\n",
        "classes_Bangalore = '/content/drive/MyDrive/Dataset_Satellite/Train_1997.tif'\n",
        "multispectral_Bangalore_1998 = '/content/drive/MyDrive/Dataset_Satellite/Bangalore_1998clip.tif'\n",
        "test_Bangalore = '/content/drive/MyDrive/Dataset_Satellite/Test_1997.tif'\n"
      ]
    },
    {
      "cell_type": "code",
      "execution_count": 31,
      "metadata": {
        "id": "zd6GhrIR3HTA",
        "colab": {
          "base_uri": "https://localhost:8080/"
        },
        "outputId": "17461695-28b1-4aa8-dc44-3065318bb1b1"
      },
      "outputs": [
        {
          "output_type": "stream",
          "name": "stdout",
          "text": [
            "Bangalore Multispectral image shape (5, 2068, 2268)\n",
            "Bangalalore mutliclass image shape (2068, 2268)\n",
            "Bangalore test dataset image shape (2068, 2268)\n",
            "Bangalore 1998 multispectral image shape (5, 2068, 2268)\n"
          ]
        }
      ],
      "source": [
        "# Reading all the imported tif files\n",
        "ds1, features_97 = raster.read(multispectral_Bangalore, bands = 'all')\n",
        "print('Bangalore Multispectral image shape', features_97.shape)\n",
        "\n",
        "ds2, labels = raster.read(classes_Bangalore, bands = 1)\n",
        "print('Bangalalore mutliclass image shape', labels.shape)\n",
        "\n",
        "ds3, test_values = raster.read(test_Bangalore, bands = 1)\n",
        "print('Bangalore test dataset image shape',test_values.shape)\n",
        "\n",
        "ds4, features_98 = raster.read(multispectral_Bangalore_1998, bands = 'all')\n",
        "print('Bangalore 1998 multispectral image shape', features_98.shape)"
      ]
    },
    {
      "cell_type": "markdown",
      "metadata": {
        "id": "9xsJi4xvOvhs"
      },
      "source": [
        ""
      ]
    },
    {
      "cell_type": "code",
      "execution_count": 32,
      "metadata": {
        "id": "EipGCfPJ_wSD",
        "colab": {
          "base_uri": "https://localhost:8080/"
        },
        "outputId": "380f91fd-0e2c-444e-d9fa-ee81ec7d5325"
      },
      "outputs": [
        {
          "output_type": "stream",
          "name": "stdout",
          "text": [
            "{1, 2, 3, 4, 6, 7, 8, 9, 10, 11, 12, 13, 14, 15, 16, 17, 18, 19, 20, 21, 22, 23, 24, 25, 26, 27, 28, 29, 30, 31, 32, 33, 34, 35, 36, 37, 38, 39, 40, 41, 42, 43, 44, 45, 46, 47, 48, 49, 50, 51, 52, 53, 54, 55, 56, 57, 58, 59, 60, 61, 62, 63, 64, 65, 66, 67, 68, 69, 70, 71, 72, 73, 74, 75, 76, 77, 78, 79, 80, 81, 82, 83, 84, 85, 86, 87, 88, 89, 90, 91, 92, 93, 94, 95, 96, 97, 98, 99, 100, 101, 102, 103, 104, 105, 106, 107, 108, 109, 110, 111, 112, 113, 114, 115, 116, 117, 118, 119, 120, 121, 122, 123, 124, 125, 126, 127, 128, 129, 130, 131, 132, 133, 134, 135, 136, 137, 138, 139, 140, 141, 142, 143, 144, 145, 146, 147, 148, 149, 150, 151, 152, 153, 154, 155, 156, 157, 158, 159, 160, 161, 162, 163, 164, 165, 166, 167, 168, 169, 170, 171, 172, 173, 174, 175, 176, 177, 178, 179, 180, 181, 182, 183, 184, 185, 186, 187, 188, 189, 190, 191, 192, 193, 194, 195, 196, 197, 198, 199, 200, 201, 202, 203, 204, 205, 206, 207, 208, 209, 210, 211, 212, 213, 214, 215, 216, 217, 218, 219, 220, 221, 222, 223, 224, 225, 226, 227, 228, 229, 230, 231, 232, 233, 234, 235, 236, 237, 238, 239, 240, 241, 242, 243, 244, 245, 246, 248, 249, 250, 251, 252, 253, 254, 255}\n",
            "{0, 1, 2, 3, 255}\n"
          ]
        }
      ],
      "source": [
        "featuresBangalore_1997 = convert.array_to_table(features_97)\n",
        "labels = convert.array_to_table(labels)\n",
        "test = convert.array_to_table(test_values)\n",
        "featuresBangalore_1998 = convert.array_to_table(features_98)\n",
        "\n",
        "print(set(featuresBangalore_1997.flatten()))\n",
        "print(set(labels))\n",
        "\n",
        "#To extract the pixels with the required label values\n",
        "features_1997 = np.rollaxis(featuresBangalore_1997,0,1)"
      ]
    },
    {
      "cell_type": "code",
      "source": [
        "lab = labels.flatten()\n",
        "test = test.flatten()\n",
        "\n",
        "built_up = lab[lab==0]\n",
        "veg = lab[lab==1]\n",
        "water = lab[lab==2]\n",
        "barren = lab[lab==3]\n",
        "\n",
        "built_f = features_1997[lab==0]\n",
        "veg_f = features_1997[lab==1]\n",
        "water_f = features_1997[lab==2]\n",
        "barren_f = features_1997[lab==3]\n",
        "\n",
        "built_t = test[test==0]\n",
        "veg_t = test[test==1]\n",
        "water_t = test[test==2]\n",
        "barren_t = test[test==3]\n",
        "\n",
        "built_testf = features_1997[test==0]\n",
        "veg_testf = features_1997[test==1]\n",
        "water_testf = features_1997[test==2]\n",
        "barren_testf = features_1997[test==3]"
      ],
      "metadata": {
        "id": "nR39WVDQ08H2"
      },
      "execution_count": 33,
      "outputs": []
    },
    {
      "cell_type": "code",
      "source": [
        "features = np.concatenate((built_f,veg_f,water_f,barren_f), axis=0)\n",
        "labels = np.concatenate((built_up,veg,water,barren), axis=0)\n",
        "test_val = np. concatenate((built_t,veg_t,water_t,barren_t), axis=0)\n",
        "test_features = np.concatenate((built_testf,veg_testf,water_testf,barren_testf), axis=0)"
      ],
      "metadata": {
        "id": "QJF032lTtg4p"
      },
      "execution_count": 34,
      "outputs": []
    },
    {
      "cell_type": "code",
      "execution_count": 35,
      "metadata": {
        "id": "1oaGiO-bKRA_",
        "colab": {
          "base_uri": "https://localhost:8080/"
        },
        "outputId": "86d5a151-8f76-481d-9e5f-249d5b57091b"
      },
      "outputs": [
        {
          "output_type": "stream",
          "name": "stdout",
          "text": [
            "Reshaped Bangalore data with features  (5857, 5)\n",
            "Reshaped Bangalore data with labels (5857,)\n",
            "Reshaped Bangalore data with test features (1072, 5)\n",
            "Reshaped Bangalore data with test labels (1072,)\n"
          ]
        }
      ],
      "source": [
        "#To check if the dimension of input data to the model matches\n",
        "print('Reshaped Bangalore data with features ',features.shape)\n",
        "print('Reshaped Bangalore data with labels', labels.shape)\n",
        "print('Reshaped Bangalore data with test features', test_features.shape)\n",
        "print('Reshaped Bangalore data with test labels', test_val.shape)"
      ]
    },
    {
      "cell_type": "code",
      "execution_count": 36,
      "metadata": {
        "id": "NXycOcHHKtzF"
      },
      "outputs": [],
      "source": [
        "xTrain, yTrain = features, labels\n",
        "yPred = test_features/255.0\n",
        "yTest = test_val\n",
        "\n",
        "xTrain = xTrain/255.0\n",
        "featuresBangalore_1997 = features_1997/255.0\n",
        "featuresBangalore_1998 = featuresBangalore_1998/255.0\n",
        "\n",
        "xTrain = xTrain.reshape((xTrain.shape[0], 1, xTrain.shape[1]))\n",
        "yPred = yPred.reshape((yPred.shape[0], 1, yPred.shape[1]))\n",
        "featuresBangalore_1997 = featuresBangalore_1997.reshape((features_1997.shape[0], 1, features_1997.shape[1]))\n",
        "featuresBangalore_1998 = featuresBangalore_1998.reshape((featuresBangalore_1998.shape[0], 1, featuresBangalore_1998.shape[1]))"
      ]
    },
    {
      "cell_type": "code",
      "execution_count": 37,
      "metadata": {
        "id": "iMoE4694P1VJ"
      },
      "outputs": [],
      "source": [
        "# Define the parameters of the model\n",
        "model = keras.Sequential([\n",
        "    keras.layers.Flatten(input_shape=(1, 5)),\n",
        "    keras.layers.Dense(19, activation='relu'),\n",
        "    keras.layers.Dense(10,activation = 'relu'),\n",
        "    keras.layers.Dense(4, activation='linear')\n",
        "    ])\n",
        "\n",
        "model.compile (optimizer= keras.optimizers.Adam(learning_rate = 0.001), \n",
        "              loss = tf.keras.losses.SparseCategoricalCrossentropy(from_logits = True), \n",
        "              metrics=['sparse_categorical_accuracy']\n",
        "              )\n"
      ]
    },
    {
      "cell_type": "code",
      "execution_count": 38,
      "metadata": {
        "id": "HIcrCyrwuTRy",
        "colab": {
          "base_uri": "https://localhost:8080/"
        },
        "outputId": "84ea4c1f-b372-400e-e80e-c4562c968d87"
      },
      "outputs": [
        {
          "output_type": "stream",
          "name": "stdout",
          "text": [
            "Epoch 1/50\n",
            "184/184 [==============================] - 1s 2ms/step - loss: 1.2225 - sparse_categorical_accuracy: 0.4335\n",
            "Epoch 2/50\n",
            "184/184 [==============================] - 0s 2ms/step - loss: 0.8896 - sparse_categorical_accuracy: 0.6268\n",
            "Epoch 3/50\n",
            "184/184 [==============================] - 0s 2ms/step - loss: 0.7003 - sparse_categorical_accuracy: 0.6954\n",
            "Epoch 4/50\n",
            "184/184 [==============================] - 0s 2ms/step - loss: 0.5798 - sparse_categorical_accuracy: 0.8216\n",
            "Epoch 5/50\n",
            "184/184 [==============================] - 0s 2ms/step - loss: 0.5042 - sparse_categorical_accuracy: 0.8511\n",
            "Epoch 6/50\n",
            "184/184 [==============================] - 0s 2ms/step - loss: 0.4604 - sparse_categorical_accuracy: 0.8677\n",
            "Epoch 7/50\n",
            "184/184 [==============================] - 0s 2ms/step - loss: 0.4269 - sparse_categorical_accuracy: 0.8750\n",
            "Epoch 8/50\n",
            "184/184 [==============================] - 0s 2ms/step - loss: 0.3991 - sparse_categorical_accuracy: 0.8795\n",
            "Epoch 9/50\n",
            "184/184 [==============================] - 0s 2ms/step - loss: 0.3779 - sparse_categorical_accuracy: 0.8853\n",
            "Epoch 10/50\n",
            "184/184 [==============================] - 0s 2ms/step - loss: 0.3640 - sparse_categorical_accuracy: 0.8848\n",
            "Epoch 11/50\n",
            "184/184 [==============================] - 0s 2ms/step - loss: 0.3512 - sparse_categorical_accuracy: 0.8871\n",
            "Epoch 12/50\n",
            "184/184 [==============================] - 0s 2ms/step - loss: 0.3429 - sparse_categorical_accuracy: 0.8882\n",
            "Epoch 13/50\n",
            "184/184 [==============================] - 0s 2ms/step - loss: 0.3396 - sparse_categorical_accuracy: 0.8856\n",
            "Epoch 14/50\n",
            "184/184 [==============================] - 0s 2ms/step - loss: 0.3340 - sparse_categorical_accuracy: 0.8858\n",
            "Epoch 15/50\n",
            "184/184 [==============================] - 0s 2ms/step - loss: 0.3315 - sparse_categorical_accuracy: 0.8859\n",
            "Epoch 16/50\n",
            "184/184 [==============================] - 0s 2ms/step - loss: 0.3290 - sparse_categorical_accuracy: 0.8866\n",
            "Epoch 17/50\n",
            "184/184 [==============================] - 0s 2ms/step - loss: 0.3273 - sparse_categorical_accuracy: 0.8882\n",
            "Epoch 18/50\n",
            "184/184 [==============================] - 0s 2ms/step - loss: 0.3254 - sparse_categorical_accuracy: 0.8875\n",
            "Epoch 19/50\n",
            "184/184 [==============================] - 0s 2ms/step - loss: 0.3234 - sparse_categorical_accuracy: 0.8877\n",
            "Epoch 20/50\n",
            "184/184 [==============================] - 0s 2ms/step - loss: 0.3228 - sparse_categorical_accuracy: 0.8871\n",
            "Epoch 21/50\n",
            "184/184 [==============================] - 0s 2ms/step - loss: 0.3222 - sparse_categorical_accuracy: 0.8882\n",
            "Epoch 22/50\n",
            "184/184 [==============================] - 0s 2ms/step - loss: 0.3217 - sparse_categorical_accuracy: 0.8859\n",
            "Epoch 23/50\n",
            "184/184 [==============================] - 0s 2ms/step - loss: 0.3182 - sparse_categorical_accuracy: 0.8883\n",
            "Epoch 24/50\n",
            "184/184 [==============================] - 0s 2ms/step - loss: 0.3192 - sparse_categorical_accuracy: 0.8887\n",
            "Epoch 25/50\n",
            "184/184 [==============================] - 0s 2ms/step - loss: 0.3176 - sparse_categorical_accuracy: 0.8861\n",
            "Epoch 26/50\n",
            "184/184 [==============================] - 0s 2ms/step - loss: 0.3172 - sparse_categorical_accuracy: 0.8887\n",
            "Epoch 27/50\n",
            "184/184 [==============================] - 0s 2ms/step - loss: 0.3167 - sparse_categorical_accuracy: 0.8885\n",
            "Epoch 28/50\n",
            "184/184 [==============================] - 0s 2ms/step - loss: 0.3157 - sparse_categorical_accuracy: 0.8897\n",
            "Epoch 29/50\n",
            "184/184 [==============================] - 0s 2ms/step - loss: 0.3147 - sparse_categorical_accuracy: 0.8875\n",
            "Epoch 30/50\n",
            "184/184 [==============================] - 0s 2ms/step - loss: 0.3155 - sparse_categorical_accuracy: 0.8883\n",
            "Epoch 31/50\n",
            "184/184 [==============================] - 0s 2ms/step - loss: 0.3132 - sparse_categorical_accuracy: 0.8870\n",
            "Epoch 32/50\n",
            "184/184 [==============================] - 0s 2ms/step - loss: 0.3144 - sparse_categorical_accuracy: 0.8870\n",
            "Epoch 33/50\n",
            "184/184 [==============================] - 0s 2ms/step - loss: 0.3122 - sparse_categorical_accuracy: 0.8875\n",
            "Epoch 34/50\n",
            "184/184 [==============================] - 0s 2ms/step - loss: 0.3113 - sparse_categorical_accuracy: 0.8900\n",
            "Epoch 35/50\n",
            "184/184 [==============================] - 0s 2ms/step - loss: 0.3103 - sparse_categorical_accuracy: 0.8895\n",
            "Epoch 36/50\n",
            "184/184 [==============================] - 0s 2ms/step - loss: 0.3178 - sparse_categorical_accuracy: 0.8866\n",
            "Epoch 37/50\n",
            "184/184 [==============================] - 0s 2ms/step - loss: 0.3112 - sparse_categorical_accuracy: 0.8882\n",
            "Epoch 38/50\n",
            "184/184 [==============================] - 0s 2ms/step - loss: 0.3102 - sparse_categorical_accuracy: 0.8861\n",
            "Epoch 39/50\n",
            "184/184 [==============================] - 0s 2ms/step - loss: 0.3112 - sparse_categorical_accuracy: 0.8889\n",
            "Epoch 40/50\n",
            "184/184 [==============================] - 0s 2ms/step - loss: 0.3087 - sparse_categorical_accuracy: 0.8904\n",
            "Epoch 41/50\n",
            "184/184 [==============================] - 0s 2ms/step - loss: 0.3080 - sparse_categorical_accuracy: 0.8882\n",
            "Epoch 42/50\n",
            "184/184 [==============================] - 0s 2ms/step - loss: 0.3075 - sparse_categorical_accuracy: 0.8865\n",
            "Epoch 43/50\n",
            "184/184 [==============================] - 0s 2ms/step - loss: 0.3084 - sparse_categorical_accuracy: 0.8895\n",
            "Epoch 44/50\n",
            "184/184 [==============================] - 0s 2ms/step - loss: 0.3074 - sparse_categorical_accuracy: 0.8890\n",
            "Epoch 45/50\n",
            "184/184 [==============================] - 0s 2ms/step - loss: 0.3058 - sparse_categorical_accuracy: 0.8889\n",
            "Epoch 46/50\n",
            "184/184 [==============================] - 0s 2ms/step - loss: 0.3081 - sparse_categorical_accuracy: 0.8880\n",
            "Epoch 47/50\n",
            "184/184 [==============================] - 0s 2ms/step - loss: 0.3061 - sparse_categorical_accuracy: 0.8895\n",
            "Epoch 48/50\n",
            "184/184 [==============================] - 0s 2ms/step - loss: 0.3066 - sparse_categorical_accuracy: 0.8912\n",
            "Epoch 49/50\n",
            "184/184 [==============================] - 0s 2ms/step - loss: 0.3068 - sparse_categorical_accuracy: 0.8907\n",
            "Epoch 50/50\n",
            "184/184 [==============================] - 0s 2ms/step - loss: 0.3061 - sparse_categorical_accuracy: 0.8899\n"
          ]
        }
      ],
      "source": [
        "history = model.fit(xTrain,yTrain,epochs=30)"
      ]
    },
    {
      "cell_type": "code",
      "execution_count": 39,
      "metadata": {
        "id": "GK8ORQnWyckM",
        "colab": {
          "base_uri": "https://localhost:8080/",
          "height": 573
        },
        "outputId": "c058a3b2-315b-4270-8133-9d1fa82355ea"
      },
      "outputs": [
        {
          "output_type": "display_data",
          "data": {
            "text/plain": [
              "<Figure size 432x288 with 1 Axes>"
            ],
            "image/png": "[encoded data removed]"
          },
          "metadata": {
            "needs_background": "light"
          }
        },
        {
          "output_type": "display_data",
          "data": {
            "text/plain": [
              "<Figure size 432x288 with 1 Axes>"
            ],
            "image/png": "[encoded data removed]"
          },
          "metadata": {
            "needs_background": "light"
          }
        }
      ],
      "source": [
        "from matplotlib import pyplot as plt\n",
        "plt.plot(history.history['loss'])\n",
        "plt.title('Model loss')\n",
        "plt.ylabel('Loss')\n",
        "plt.xlabel('Epoch')\n",
        "plt.show()\n",
        "\n",
        "plt.plot(history.history['sparse_categorical_accuracy'])\n",
        "plt.title('Model accuracy')\n",
        "plt.ylabel('Categorical Accuracy')\n",
        "plt.xlabel('Epoch')\n",
        "plt.show()"
      ]
    },
    {
      "cell_type": "code",
      "source": [
        "yTestPred = model.predict(yPred)\n",
        "yTestPredicted = []\n",
        "\n",
        "for i in range(len(yTestPred)):\n",
        "  value = yTestPred[i].argmax()\n",
        "  yTestPredicted.append(value)\n",
        "\n",
        "cMatrix = confusion_matrix(yTest,yTestPredicted)\n",
        "precision = precision_score(yTest,yTestPredicted, average = 'weighted') \n",
        "recall = recall_score(yTest,yTestPredicted, average = 'weighted')\n",
        "print(\"The confusion matrix for the 4 classes are: \")\n",
        "print(cMatrix)\n",
        "print(\"\\nPrecision value: \",precision)\n",
        "print(\"Recall value: \",recall)\n",
        "print(\"F1-Score: \" ,(2*precision*recall/(precision+recall)))"
      ],
      "metadata": {
        "colab": {
          "base_uri": "https://localhost:8080/"
        },
        "id": "ZPL1PLzLliJF",
        "outputId": "fd970ed7-5150-4acc-f6d3-1e919c7fddc1"
      },
      "execution_count": 60,
      "outputs": [
        {
          "output_type": "stream",
          "name": "stdout",
          "text": [
            "The confusion matrix for the 4 classes are: \n",
            "[[441  36   0   3]\n",
            " [  0 150   0  26]\n",
            " [  3   2 290   1]\n",
            " [  0   4   0 116]]\n",
            "\n",
            "Precision value:  0.938058976222184\n",
            "Recall value:  0.9300373134328358\n",
            "F1-Score:  0.9340309221944308\n"
          ]
        }
      ]
    },
    {
      "cell_type": "code",
      "source": [
        "predicted_97 = model.predict(featuresBangalore_1997)\n",
        "predicted_98 = model.predict(featuresBangalore_1998)\n",
        "\n",
        "predicted_97 = np.array(predicted_97)\n",
        "predicted_98 = np.array(predicted_98)\n",
        "\n",
        "print('Dimensions of 1997 image: ',predicted_97.shape)\n",
        "print('Dimensions of 1998 image: ',predicted_98.shape)"
      ],
      "metadata": {
        "id": "1xrYRTdyi1-P"
      },
      "execution_count": null,
      "outputs": []
    },
    {
      "cell_type": "code",
      "source": [
        "pred= []\n",
        "\n",
        "for i in range(len(predicted_97)):\n",
        "  value = predicted_97[i].argmax()\n",
        "  pred.append(value)\n",
        "\n",
        "pred_2 = []\n",
        "for i in range(len(predicted_98)):\n",
        "  value = predicted_98[i].argmax() \n",
        "  pred_2.append(value)\n",
        "\n",
        "print(set(pred))\n",
        "print(set(pred_2))"
      ],
      "metadata": {
        "id": "cT8tJBNmrRJk",
        "colab": {
          "base_uri": "https://localhost:8080/"
        },
        "outputId": "9f23d09a-75a7-47b1-e8be-1036bc3d0888"
      },
      "execution_count": null,
      "outputs": [
        {
          "output_type": "stream",
          "name": "stdout",
          "text": [
            "{0, 1, 2, 3}\n",
            "{0, 1, 2, 3}\n"
          ]
        }
      ]
    },
    {
      "cell_type": "code",
      "source": [
        "pred = np.array(pred, dtype = 'int')\n",
        "pred_2 = np.array(pred_2, dtype = 'int')\n",
        "\n",
        "predicted = convert.table_to_array(pred,n_rows=ds3.RasterYSize, n_cols=ds3.RasterXSize)\n",
        "predicted_2 = convert.table_to_array(pred_2,n_rows=ds1.RasterYSize, n_cols=ds1.RasterXSize)\n",
        "\n",
        "raster.export(predicted, ds1, filename='Classified_1997.tif',dtype='int',bands=1)\n",
        "raster.export(predicted_2,ds3, filename='Classified_1998.tif',dtype='int',bands=1)"
      ],
      "metadata": {
        "id": "zbrXzTn2TjNx"
      },
      "execution_count": null,
      "outputs": []
    }
  ],
  "metadata": {
    "colab": {
      "collapsed_sections": [],
      "name": "Satellite_Image_Classification_ANN.ipynb",
      "provenance": [],
      "include_colab_link": true
    },
    "gpuClass": "standard",
    "kernelspec": {
      "display_name": "Python 3",
      "name": "python3"
    },
    "language_info": {
      "name": "python"
    }
  },
  "nbformat": 4,
  "nbformat_minor": 0
}